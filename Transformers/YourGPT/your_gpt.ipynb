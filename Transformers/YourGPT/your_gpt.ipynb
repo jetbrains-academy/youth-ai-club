{
 "cells": [
  {
   "cell_type": "code",
   "id": "initial_id",
   "metadata": {
    "collapsed": true,
    "ExecuteTime": {
     "end_time": "2024-07-16T15:08:16.002631Z",
     "start_time": "2024-07-16T15:08:14.693645Z"
    }
   },
   "source": [
    "import torch\n",
    "import torch.nn as nn\n",
    "from torch.nn import functional as F\n",
    "import tiktoken\n",
    "from matplotlib import pyplot as plt\n",
    "\n",
    "\n",
    "from Transformers.TransformerBlock.task import Block\n",
    "from Transformers.TokenizationTiktoken.task import tokenization"
   ],
   "outputs": [],
   "execution_count": 1
  },
  {
   "cell_type": "code",
   "source": [
    "# hyper-parameters\n",
    "torch.manual_seed(36)\n",
    "batch_size = 16 \n",
    "block_size = 32\n",
    "max_iters = 5000\n",
    "eval_interval = 500\n",
    "learning_rate = 1e-3\n",
    "device = (\"cuda\" if torch.cuda.is_available()\n",
    "    else \"mps\" if torch.backends.mps.is_available()\n",
    "    else \"cpu\"\n",
    ")\n",
    "eval_iters = 100\n",
    "n_embd = 64\n",
    "n_head = 4\n",
    "n_layer = 4\n",
    "dropout = 0.0"
   ],
   "metadata": {
    "collapsed": false,
    "ExecuteTime": {
     "end_time": "2024-07-16T15:11:55.852401Z",
     "start_time": "2024-07-16T15:11:55.832108Z"
    }
   },
   "id": "25c734a2e9369dae",
   "outputs": [],
   "execution_count": 4
  },
  {
   "cell_type": "markdown",
   "source": [
    "Let's start by opening the text that our model will learn from and translating it into a set of tokens"
   ],
   "metadata": {
    "collapsed": false,
    "ExecuteTime": {
     "end_time": "2024-07-16T15:00:34.924375Z",
     "start_time": "2024-07-16T15:00:34.922611Z"
    }
   },
   "id": "be8f5b3d22fdeaec"
  },
  {
   "cell_type": "markdown",
   "source": [
    "Dividing the data"
   ],
   "metadata": {
    "collapsed": false
   },
   "id": "3d9dfc26eee13c1d"
  },
  {
   "cell_type": "code",
   "source": [
    "with open('shakespeare.txt', 'r', encoding='utf-8') as f:\n",
    "    text = f.read()\n",
    "encoded_text, stoi, itos = tokenization(text)\n",
    "vocab_size = len(stoi)\n",
    "data = torch.tensor(encoded_text, dtype=torch.long).to(device)"
   ],
   "metadata": {
    "collapsed": false,
    "ExecuteTime": {
     "end_time": "2024-07-16T15:12:01.619353Z",
     "start_time": "2024-07-16T15:12:01.498129Z"
    }
   },
   "id": "771ad514de19197e",
   "outputs": [],
   "execution_count": 5
  },
  {
   "cell_type": "code",
   "source": [
    "n = int(0.9*len(data))\n",
    "train_data = data[:n]\n",
    "val_data = data[n:]"
   ],
   "metadata": {
    "collapsed": false,
    "ExecuteTime": {
     "end_time": "2024-07-16T15:12:04.566282Z",
     "start_time": "2024-07-16T15:12:04.564150Z"
    }
   },
   "id": "42e1ad4b813418ff",
   "outputs": [],
   "execution_count": 6
  },
  {
   "cell_type": "markdown",
   "source": [
    "A function that returns a batch of data"
   ],
   "metadata": {
    "collapsed": false
   },
   "id": "8411b90a640b997e"
  },
  {
   "cell_type": "code",
   "source": [
    "def get_batch(split):\n",
    "    data = train_data if split == 'train' else val_data\n",
    "    ix = torch.randint(len(data) - block_size, (batch_size,))\n",
    "    x = torch.stack([data[i:i+block_size] for i in ix])\n",
    "    y = torch.stack([data[i+1:i+block_size+1] for i in ix])\n",
    "    return x, y"
   ],
   "metadata": {
    "collapsed": false,
    "ExecuteTime": {
     "end_time": "2024-07-16T15:12:06.982938Z",
     "start_time": "2024-07-16T15:12:06.979479Z"
    }
   },
   "id": "4261deb891ce0cbb",
   "outputs": [],
   "execution_count": 7
  },
  {
   "cell_type": "code",
   "source": [
    "@torch.no_grad()\n",
    "def estimate_loss():\n",
    "    out = {}\n",
    "    model.eval()\n",
    "    for split in ['train', 'val']:\n",
    "        losses = torch.zeros(eval_iters)\n",
    "        for k in range(eval_iters):\n",
    "            X, Y = get_batch(split)\n",
    "            logits, loss = model(X, Y)\n",
    "            losses[k] = loss.item()\n",
    "        out[split] = losses.mean()\n",
    "    model.train()\n",
    "    return out\n"
   ],
   "metadata": {
    "collapsed": false,
    "ExecuteTime": {
     "end_time": "2024-07-16T15:12:08.780629Z",
     "start_time": "2024-07-16T15:12:08.777938Z"
    }
   },
   "id": "2cf682e7e75d7ae1",
   "outputs": [],
   "execution_count": 8
  },
  {
   "cell_type": "markdown",
   "source": [
    "The most important part is actually our model, which contains everything that you have written before"
   ],
   "metadata": {
    "collapsed": false
   },
   "id": "3c9d0bf6d976552f"
  },
  {
   "cell_type": "code",
   "source": [
    "class GPT2(nn.Module):\n",
    "    def __init__(self):\n",
    "        super().__init__()\n",
    "        self.token_embedding_table = nn.Embedding(vocab_size, n_embd)\n",
    "        self.position_embedding_table = nn.Embedding(block_size, n_embd)\n",
    "        self.blocks = nn.Sequential(*[Block(n_embd, n_head=n_head) for _ in range(n_layer)])\n",
    "        self.ln_f = nn.LayerNorm(n_embd) \n",
    "        self.lm_head = nn.Linear(n_embd, vocab_size)\n",
    "    def forward(self, idx, targets=None):\n",
    "        B, T = idx.shape\n",
    "\n",
    "        tok_emb = self.token_embedding_table(idx) \n",
    "        pos_emb = self.position_embedding_table(torch.arange(T, device=device)) \n",
    "        x = tok_emb + pos_emb \n",
    "        x = self.blocks(x) \n",
    "        x = self.ln_f(x) \n",
    "        logits = self.lm_head(x) \n",
    "\n",
    "        if targets is None:\n",
    "            loss = None\n",
    "        else:\n",
    "            B, T, C = logits.shape\n",
    "            logits = logits.view(B*T, C)\n",
    "            targets = targets.view(B*T)\n",
    "            loss = F.cross_entropy(logits, targets)\n",
    "\n",
    "        return logits, loss\n",
    "    def generate(self, idx, max_new_tokens):\n",
    "        for _ in range(max_new_tokens):\n",
    "            idx_cond = idx[:, -block_size:]\n",
    "            logits, loss = self(idx_cond)\n",
    "            logits = logits[:, -1, :]\n",
    "            probs = F.softmax(logits, dim=-1) \n",
    "            idx_next = torch.multinomial(probs, num_samples=1) \n",
    "            idx = torch.cat((idx, idx_next), dim=1) \n",
    "        return idx"
   ],
   "metadata": {
    "collapsed": false,
    "ExecuteTime": {
     "end_time": "2024-07-16T15:12:10.986662Z",
     "start_time": "2024-07-16T15:12:10.983150Z"
    }
   },
   "id": "54bee6af6b93ca66",
   "outputs": [],
   "execution_count": 9
  },
  {
   "cell_type": "code",
   "source": [
    "model = GPT2()\n",
    "m = model.to(device)\n",
    "optimizer = torch.optim.AdamW(model.parameters(), lr=learning_rate)"
   ],
   "metadata": {
    "collapsed": false,
    "ExecuteTime": {
     "end_time": "2024-07-16T15:12:14.143879Z",
     "start_time": "2024-07-16T15:12:13.607349Z"
    }
   },
   "id": "da41152668b7e89d",
   "outputs": [],
   "execution_count": 10
  },
  {
   "cell_type": "code",
   "source": [
    "training_loss = []\n",
    "validation_loss = []\n",
    "for iter in range(max_iters):\n",
    "    \n",
    "    if iter % eval_interval == 0 or iter == max_iters - 1:\n",
    "        losses = estimate_loss()\n",
    "        training_loss.append(losses['train'])\n",
    "        validation_loss.append(losses['val'])\n",
    "        print(f\"step {iter}: train loss {losses['train']:.4f}, val loss {losses['val']:.4f}\")\n",
    "\n",
    "    xb, yb = get_batch('train')\n",
    "    \n",
    "    logits, loss = model(xb, yb)\n",
    "    optimizer.zero_grad(set_to_none=True)\n",
    "    loss.backward()\n",
    "    optimizer.step()\n",
    "plt.plot(training_loss, label='train_loss')\n",
    "plt.plot(validation_loss,label='val_loss')\n",
    "plt.legend()\n",
    "plt.show()"
   ],
   "metadata": {
    "collapsed": false,
    "ExecuteTime": {
     "end_time": "2024-07-16T15:14:57.579407Z",
     "start_time": "2024-07-16T15:12:16.430691Z"
    }
   },
   "id": "65637d3c8f1ff55a",
   "outputs": [
    {
     "name": "stdout",
     "output_type": "stream",
     "text": [
      "step 0: train loss 9.5655, val loss 9.5671\n",
      "step 500: train loss 5.7387, val loss 6.2053\n",
      "step 1000: train loss 5.1880, val loss 5.8277\n",
      "step 1500: train loss 4.9037, val loss 5.6787\n",
      "step 2000: train loss 4.6637, val loss 5.6051\n",
      "step 2500: train loss 4.5317, val loss 5.6129\n",
      "step 3000: train loss 4.4026, val loss 5.6697\n",
      "step 3500: train loss 4.2927, val loss 5.6086\n",
      "step 4000: train loss 4.2730, val loss 5.6043\n",
      "step 4500: train loss 4.1510, val loss 5.6226\n",
      "step 4999: train loss 4.0518, val loss 5.6529\n"
     ]
    },
    {
     "data": {
      "text/plain": [
       "<Figure size 640x480 with 1 Axes>"
      ],
      "image/png": "[encoded data removed]"
     },
     "metadata": {},
     "output_type": "display_data"
    }
   ],
   "execution_count": 11
  },
  {
   "cell_type": "code",
   "source": [
    "encoding = tiktoken.get_encoding(\"cl100k_base\")\n",
    "s = \"i remember a wonderful moment\"\n",
    "ids = encoding.encode(s)\n",
    "context = torch.tensor([stoi[x] for x in ids], dtype=torch.long, device=device).view(1, len(ids))\n",
    "predict = m.generate(context, max_new_tokens=100)[0].tolist()\n",
    "print(encoding.decode([itos[i] for i in predict]))"
   ],
   "metadata": {
    "collapsed": false,
    "ExecuteTime": {
     "end_time": "2024-07-16T15:16:30.040011Z",
     "start_time": "2024-07-16T15:16:14.563267Z"
    }
   },
   "id": "e70fd1dbae35e416",
   "outputs": [
    {
     "name": "stdout",
     "output_type": "stream",
     "text": [
      "i remember a wonderful moment\n",
      "Whereave my lordship.\n",
      "\n",
      "HASTINGS:\n",
      "This is elevent of my lord; I love thee to help him:\n",
      "Hunts'd me, which look with I tell us?\n",
      "\n",
      "Nurse:\n",
      "Ay sovereign, but that dimm me, and bring our house\n",
      "Only 'twere well denied their compell.\n",
      "Grace you the Tower to this nature-ote,\n",
      "During it, will appear; unwilling, a villain.\n",
      "\n",
      "CLARENCE:\n",
      "There is your majesty.\n",
      "\n",
      "KING EDWARD\n"
     ]
    }
   ],
   "execution_count": 12
  },
  {
   "cell_type": "markdown",
   "source": [
    "Don't be afraid of what your model gives out :)\n",
    "In reality, such models are trained on a huge array of data and have an incredible number of parameters, but even our small example shows how the model captures the connection between some words."
   ],
   "metadata": {
    "collapsed": false
   },
   "id": "bd422c8b6ac35be7"
  }
 ],
 "metadata": {
  "kernelspec": {
   "display_name": "Python 3",
   "language": "python",
   "name": "python3"
  },
  "language_info": {
   "codemirror_mode": {
    "name": "ipython",
    "version": 2
   },
   "file_extension": ".py",
   "mimetype": "text/x-python",
   "name": "python",
   "nbconvert_exporter": "python",
   "pygments_lexer": "ipython2",
   "version": "2.7.6"
  }
 },
 "nbformat": 4,
 "nbformat_minor": 5
}
