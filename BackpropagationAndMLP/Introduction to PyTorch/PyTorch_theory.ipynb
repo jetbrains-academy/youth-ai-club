{
 "cells": [
  {
   "cell_type": "code",
   "id": "initial_id",
   "metadata": {
    "collapsed": true,
    "ExecuteTime": {
     "end_time": "2024-07-16T10:07:28.447146Z",
     "start_time": "2024-07-16T10:07:27.875124Z"
    }
   },
   "source": [
    "import torch\n",
    "import numpy as np"
   ],
   "outputs": [],
   "execution_count": 1
  },
  {
   "cell_type": "code",
   "source": [
    "#1\n",
    "#Tensors can be created directly from data. The data type is automatically inferred.\n",
    "data = [[1, 2],[3, 4]]\n",
    "x_data = torch.tensor(data)\n",
    "print(x_data)"
   ],
   "metadata": {
    "collapsed": false,
    "ExecuteTime": {
     "end_time": "2024-07-16T09:52:21.134068Z",
     "start_time": "2024-07-16T09:52:21.119539Z"
    }
   },
   "id": "e16310b3a4379ed8",
   "outputs": [
    {
     "name": "stdout",
     "output_type": "stream",
     "text": [
      "tensor([[1, 2],\n",
      "        [3, 4]])\n"
     ]
    }
   ],
   "execution_count": 2
  },
  {
   "cell_type": "code",
   "source": [
    "#2\n",
    "#Tensors can be created from NumPy arrays:\n",
    "np_array = np.array(data)\n",
    "x_np = torch.from_numpy(np_array)\n",
    "print(x_np)"
   ],
   "metadata": {
    "collapsed": false,
    "ExecuteTime": {
     "end_time": "2024-07-16T09:52:32.580019Z",
     "start_time": "2024-07-16T09:52:32.576378Z"
    }
   },
   "id": "eb11dc54e3be6512",
   "outputs": [
    {
     "name": "stdout",
     "output_type": "stream",
     "text": [
      "tensor([[1, 2],\n",
      "        [3, 4]])\n"
     ]
    }
   ],
   "execution_count": 3
  },
  {
   "cell_type": "code",
   "source": [
    "#3\n",
    "#From another tensor:\n",
    "x_ones = torch.ones_like(x_data) # retains the properties of x_data\n",
    "print(x_ones)"
   ],
   "metadata": {
    "collapsed": false,
    "ExecuteTime": {
     "end_time": "2024-07-16T09:52:46.675268Z",
     "start_time": "2024-07-16T09:52:46.669679Z"
    }
   },
   "id": "77dbd4519f7b8cdb",
   "outputs": [
    {
     "name": "stdout",
     "output_type": "stream",
     "text": [
      "tensor([[1, 1],\n",
      "        [1, 1]])\n"
     ]
    }
   ],
   "execution_count": 4
  },
  {
   "cell_type": "code",
   "source": [
    "#4\n",
    "tensor = torch.ones(3,4)\n",
    "\n",
    "print(f\"Shape of tensor: {tensor.shape}\")\n",
    "print(f\"Datatype of tensor: {tensor.dtype}\")\n",
    "print(f\"Device tensor is stored on: {tensor.device}\")"
   ],
   "metadata": {
    "collapsed": false,
    "ExecuteTime": {
     "end_time": "2024-07-16T09:52:59.494788Z",
     "start_time": "2024-07-16T09:52:59.491421Z"
    }
   },
   "id": "52e7f914aaa14739",
   "outputs": [
    {
     "name": "stdout",
     "output_type": "stream",
     "text": [
      "Shape of tensor: torch.Size([3, 4])\n",
      "Datatype of tensor: torch.float32\n",
      "Device tensor is stored on: cpu\n"
     ]
    }
   ],
   "execution_count": 5
  },
  {
   "cell_type": "code",
   "source": [
    "#5\n",
    "tensor = torch.ones(4, 4)\n",
    "tensor[:,1] = 0\n",
    "print(tensor)"
   ],
   "metadata": {
    "collapsed": false,
    "ExecuteTime": {
     "end_time": "2024-07-16T09:53:10.239274Z",
     "start_time": "2024-07-16T09:53:10.235400Z"
    }
   },
   "id": "3a2cccc66b011011",
   "outputs": [
    {
     "name": "stdout",
     "output_type": "stream",
     "text": [
      "tensor([[1., 0., 1., 1.],\n",
      "        [1., 0., 1., 1.],\n",
      "        [1., 0., 1., 1.],\n",
      "        [1., 0., 1., 1.]])\n"
     ]
    }
   ],
   "execution_count": 6
  },
  {
   "cell_type": "code",
   "source": [
    "#6\n",
    "triple_tensor = torch.cat([tensor, tensor, tensor], dim=1)\n",
    "print(triple_tensor)"
   ],
   "metadata": {
    "collapsed": false,
    "ExecuteTime": {
     "end_time": "2024-07-16T09:54:10.329464Z",
     "start_time": "2024-07-16T09:54:10.325407Z"
    }
   },
   "id": "becdb713782a89a8",
   "outputs": [
    {
     "name": "stdout",
     "output_type": "stream",
     "text": [
      "tensor([[1., 0., 1., 1., 1., 0., 1., 1., 1., 0., 1., 1.],\n",
      "        [1., 0., 1., 1., 1., 0., 1., 1., 1., 0., 1., 1.],\n",
      "        [1., 0., 1., 1., 1., 0., 1., 1., 1., 0., 1., 1.],\n",
      "        [1., 0., 1., 1., 1., 0., 1., 1., 1., 0., 1., 1.]])\n"
     ]
    }
   ],
   "execution_count": 7
  },
  {
   "cell_type": "code",
   "source": [
    "#7\n",
    "tensor = torch.ones(4, 4)\n",
    "tensor[:,1] = 0\n",
    "y1 = tensor @ tensor.T\n",
    "y2 = tensor * tensor.T\n",
    "print(y1)\n",
    "print(y2)"
   ],
   "metadata": {
    "collapsed": false,
    "ExecuteTime": {
     "end_time": "2024-07-16T09:54:56.779765Z",
     "start_time": "2024-07-16T09:54:56.774163Z"
    }
   },
   "id": "88d6e63b146bb7a9",
   "outputs": [
    {
     "name": "stdout",
     "output_type": "stream",
     "text": [
      "tensor([[3., 3., 3., 3.],\n",
      "        [3., 3., 3., 3.],\n",
      "        [3., 3., 3., 3.],\n",
      "        [3., 3., 3., 3.]])\n",
      "tensor([[1., 0., 1., 1.],\n",
      "        [0., 0., 0., 0.],\n",
      "        [1., 0., 1., 1.],\n",
      "        [1., 0., 1., 1.]])\n"
     ]
    }
   ],
   "execution_count": 8
  },
  {
   "cell_type": "code",
   "source": [
    "#8\n",
    "y3 = torch.rand_like(y1)\n",
    "print(y3)\n",
    "agg = y3.sum()\n",
    "print(agg)"
   ],
   "metadata": {
    "collapsed": false,
    "ExecuteTime": {
     "end_time": "2024-07-16T09:55:50.454539Z",
     "start_time": "2024-07-16T09:55:50.443865Z"
    }
   },
   "id": "68d8dff236457542",
   "outputs": [
    {
     "name": "stdout",
     "output_type": "stream",
     "text": [
      "tensor([[0.0147, 0.9204, 0.8331, 0.0350],\n",
      "        [0.2067, 0.7151, 0.7642, 0.8414],\n",
      "        [0.6230, 0.1597, 0.5664, 0.4120],\n",
      "        [0.6489, 0.7899, 0.0805, 0.7171]])\n",
      "tensor(8.3281)\n"
     ]
    }
   ],
   "execution_count": 9
  },
  {
   "cell_type": "code",
   "source": [
    "#9\n",
    "t = torch.ones(5)\n",
    "print(f\"t: {t}\")\n",
    "n = t.numpy()\n",
    "print(f\"n: {n}\")"
   ],
   "metadata": {
    "collapsed": false,
    "ExecuteTime": {
     "end_time": "2024-07-16T09:56:13.823723Z",
     "start_time": "2024-07-16T09:56:13.819538Z"
    }
   },
   "id": "ee73c71c32467ad9",
   "outputs": [
    {
     "name": "stdout",
     "output_type": "stream",
     "text": [
      "t: tensor([1., 1., 1., 1., 1.])\n",
      "n: [1. 1. 1. 1. 1.]\n"
     ]
    }
   ],
   "execution_count": 10
  },
  {
   "cell_type": "code",
   "source": [
    "#10\n",
    "# A change in the tensor reflects in the NumPy array.\n",
    "t.add_(1)\n",
    "print(f\"t: {t}\")\n",
    "print(f\"n: {n}\")"
   ],
   "metadata": {
    "collapsed": false,
    "ExecuteTime": {
     "end_time": "2024-07-16T09:56:26.262243Z",
     "start_time": "2024-07-16T09:56:26.258650Z"
    }
   },
   "id": "45cf25afe8f55af5",
   "outputs": [
    {
     "name": "stdout",
     "output_type": "stream",
     "text": [
      "t: tensor([2., 2., 2., 2., 2.])\n",
      "n: [2. 2. 2. 2. 2.]\n"
     ]
    }
   ],
   "execution_count": 11
  },
  {
   "cell_type": "code",
   "source": [
    "#11\n",
    "n = np.ones(5)\n",
    "t = torch.from_numpy(n)\n",
    "# Changes in the NumPy array reflects in the tensor.\n",
    "np.add(n, 1, out=n)\n",
    "print(f\"t: {t}\")\n",
    "print(f\"n: {n}\")"
   ],
   "metadata": {
    "collapsed": false,
    "ExecuteTime": {
     "end_time": "2024-07-16T09:56:41.494088Z",
     "start_time": "2024-07-16T09:56:41.491225Z"
    }
   },
   "id": "1032d15ceec2f3cc",
   "outputs": [
    {
     "name": "stdout",
     "output_type": "stream",
     "text": [
      "t: tensor([2., 2., 2., 2., 2.], dtype=torch.float64)\n",
      "n: [2. 2. 2. 2. 2.]\n"
     ]
    }
   ],
   "execution_count": 12
  },
  {
   "cell_type": "code",
   "source": [
    "#12\n",
    "from torch import nn\n",
    "\n",
    "device = (\n",
    "    \"cuda\"\n",
    "    if torch.cuda.is_available()\n",
    "    else \"mps\"\n",
    "    if torch.backends.mps.is_available()\n",
    "    else \"cpu\"\n",
    ")\n",
    "print(f\"Using {device} device\")"
   ],
   "metadata": {
    "collapsed": false,
    "ExecuteTime": {
     "end_time": "2024-07-16T10:18:56.056593Z",
     "start_time": "2024-07-16T10:18:56.054477Z"
    }
   },
   "id": "f975b283dbad61f0",
   "outputs": [
    {
     "name": "stdout",
     "output_type": "stream",
     "text": [
      "Using mps device\n"
     ]
    }
   ],
   "execution_count": 16
  },
  {
   "cell_type": "code",
   "source": [
    "#13\n",
    "class NeuralNetwork(nn.Module):\n",
    "    def __init__(self):\n",
    "        super().__init__()\n",
    "        self.flatten = nn.Flatten()\n",
    "        self.linear_relu_stack = nn.Sequential(\n",
    "            nn.Linear(28*28, 512),\n",
    "            nn.ReLU(),\n",
    "            nn.Linear(512, 512),\n",
    "            nn.ReLU(),\n",
    "            nn.Linear(512, 10),\n",
    "        )\n",
    "\n",
    "    def forward(self, x):\n",
    "        x = self.flatten(x)\n",
    "        logits = self.linear_relu_stack(x)\n",
    "        return logits\n",
    "\n",
    "model = NeuralNetwork().to(device)\n",
    "print(model)"
   ],
   "metadata": {
    "collapsed": false,
    "ExecuteTime": {
     "end_time": "2024-07-16T10:18:57.000606Z",
     "start_time": "2024-07-16T10:18:56.993500Z"
    }
   },
   "id": "cbb41444405466af",
   "outputs": [
    {
     "name": "stdout",
     "output_type": "stream",
     "text": [
      "NeuralNetwork(\n",
      "  (flatten): Flatten(start_dim=1, end_dim=-1)\n",
      "  (linear_relu_stack): Sequential(\n",
      "    (0): Linear(in_features=784, out_features=512, bias=True)\n",
      "    (1): ReLU()\n",
      "    (2): Linear(in_features=512, out_features=512, bias=True)\n",
      "    (3): ReLU()\n",
      "    (4): Linear(in_features=512, out_features=10, bias=True)\n",
      "  )\n",
      ")\n"
     ]
    }
   ],
   "execution_count": 17
  },
  {
   "cell_type": "code",
   "source": [
    "#14\n",
    "X = torch.rand(1, 28, 28, device=device)\n",
    "logits = model(X)\n",
    "pred_probab = nn.Softmax(dim=1)(logits)\n",
    "y_pred = pred_probab.argmax(1)\n",
    "print(f\"Predicted class: {y_pred}\")"
   ],
   "metadata": {
    "collapsed": false,
    "ExecuteTime": {
     "end_time": "2024-07-16T10:18:57.440058Z",
     "start_time": "2024-07-16T10:18:57.435438Z"
    }
   },
   "id": "e8bcaa4cdd0d2d2f",
   "outputs": [
    {
     "name": "stdout",
     "output_type": "stream",
     "text": [
      "Predicted class: tensor([7], device='mps:0')\n"
     ]
    }
   ],
   "execution_count": 18
  },
  {
   "cell_type": "code",
   "source": [
    "#15\n",
    "input_image = torch.rand(3,28,28)\n",
    "print(input_image.size())"
   ],
   "metadata": {
    "collapsed": false,
    "ExecuteTime": {
     "end_time": "2024-07-16T10:18:57.822157Z",
     "start_time": "2024-07-16T10:18:57.820330Z"
    }
   },
   "id": "a59b58f1971b82ab",
   "outputs": [
    {
     "name": "stdout",
     "output_type": "stream",
     "text": [
      "torch.Size([3, 28, 28])\n"
     ]
    }
   ],
   "execution_count": 19
  },
  {
   "cell_type": "code",
   "source": [
    "#16\n",
    "flatten = nn.Flatten()\n",
    "flat_image = flatten(input_image)\n",
    "print(flat_image.size())"
   ],
   "metadata": {
    "collapsed": false,
    "ExecuteTime": {
     "end_time": "2024-07-16T10:18:58.245802Z",
     "start_time": "2024-07-16T10:18:58.243808Z"
    }
   },
   "id": "74745e3c417b7506",
   "outputs": [
    {
     "name": "stdout",
     "output_type": "stream",
     "text": [
      "torch.Size([3, 784])\n"
     ]
    }
   ],
   "execution_count": 20
  },
  {
   "cell_type": "code",
   "source": [
    "#17\n",
    "layer1 = nn.Linear(in_features=28*28, out_features=20)\n",
    "hidden1 = layer1(flat_image)\n",
    "print(hidden1.size())"
   ],
   "metadata": {
    "collapsed": false,
    "ExecuteTime": {
     "end_time": "2024-07-16T10:18:58.806048Z",
     "start_time": "2024-07-16T10:18:58.803947Z"
    }
   },
   "id": "a2ef902a3d6f32e0",
   "outputs": [
    {
     "name": "stdout",
     "output_type": "stream",
     "text": [
      "torch.Size([3, 20])\n"
     ]
    }
   ],
   "execution_count": 21
  },
  {
   "cell_type": "code",
   "source": [
    "#18\n",
    "print(f\"Before ReLU: {hidden1}\\n\\n\")\n",
    "hidden1 = nn.ReLU()(hidden1)\n",
    "print(f\"After ReLU: {hidden1}\")"
   ],
   "metadata": {
    "collapsed": false,
    "ExecuteTime": {
     "end_time": "2024-07-16T10:18:59.072075Z",
     "start_time": "2024-07-16T10:18:59.069403Z"
    }
   },
   "id": "b462e45b3e0bd6a7",
   "outputs": [
    {
     "name": "stdout",
     "output_type": "stream",
     "text": [
      "Before ReLU: tensor([[ 0.3046, -0.4486, -0.1809,  0.1230,  0.1369, -0.0377,  0.1845,  0.4336,\n",
      "         -0.1245,  0.1174, -0.6741,  0.0480,  0.0981,  0.3365,  0.4362,  0.3127,\n",
      "         -0.3651, -0.0770, -0.0150, -0.0411],\n",
      "        [ 0.4933, -0.6640, -0.5060,  0.3989,  0.1486,  0.0193, -0.1941,  0.6522,\n",
      "         -0.2349,  0.4192, -0.5171,  0.0982, -0.4726,  0.0799, -0.1263,  0.1813,\n",
      "         -0.1692, -0.1220, -0.1225, -0.4148],\n",
      "        [ 0.4813, -0.7012, -0.3397, -0.0579, -0.2096, -0.2108,  0.0297,  0.3630,\n",
      "         -0.2395,  0.3546, -0.6797, -0.2255, -0.2869, -0.1882, -0.2854,  0.0711,\n",
      "         -0.1620, -0.2179, -0.0999,  0.3146]], grad_fn=<AddmmBackward0>)\n",
      "\n",
      "\n",
      "After ReLU: tensor([[0.3046, 0.0000, 0.0000, 0.1230, 0.1369, 0.0000, 0.1845, 0.4336, 0.0000,\n",
      "         0.1174, 0.0000, 0.0480, 0.0981, 0.3365, 0.4362, 0.3127, 0.0000, 0.0000,\n",
      "         0.0000, 0.0000],\n",
      "        [0.4933, 0.0000, 0.0000, 0.3989, 0.1486, 0.0193, 0.0000, 0.6522, 0.0000,\n",
      "         0.4192, 0.0000, 0.0982, 0.0000, 0.0799, 0.0000, 0.1813, 0.0000, 0.0000,\n",
      "         0.0000, 0.0000],\n",
      "        [0.4813, 0.0000, 0.0000, 0.0000, 0.0000, 0.0000, 0.0297, 0.3630, 0.0000,\n",
      "         0.3546, 0.0000, 0.0000, 0.0000, 0.0000, 0.0000, 0.0711, 0.0000, 0.0000,\n",
      "         0.0000, 0.3146]], grad_fn=<ReluBackward0>)\n"
     ]
    }
   ],
   "execution_count": 22
  },
  {
   "cell_type": "code",
   "source": [
    "#19\n",
    "seq_modules = nn.Sequential(\n",
    "    flatten,\n",
    "    layer1,\n",
    "    nn.ReLU(),\n",
    "    nn.Linear(20, 10)\n",
    ")\n",
    "input_image = torch.rand(3, 28, 28)\n",
    "logits = seq_modules(input_image)"
   ],
   "metadata": {
    "collapsed": false,
    "ExecuteTime": {
     "end_time": "2024-07-16T10:18:59.597110Z",
     "start_time": "2024-07-16T10:18:59.594966Z"
    }
   },
   "id": "882f93646a98b282",
   "outputs": [],
   "execution_count": 23
  },
  {
   "cell_type": "code",
   "source": [
    "#20\n",
    "softmax = nn.Softmax(dim=1)\n",
    "pred_probs = softmax(logits)\n",
    "pred_probs"
   ],
   "metadata": {
    "collapsed": false,
    "ExecuteTime": {
     "end_time": "2024-07-16T10:18:59.982850Z",
     "start_time": "2024-07-16T10:18:59.979516Z"
    }
   },
   "id": "5039b3840692069d",
   "outputs": [
    {
     "data": {
      "text/plain": [
       "tensor([[0.0704, 0.1049, 0.0792, 0.0917, 0.0899, 0.1059, 0.1400, 0.1193, 0.1089,\n",
       "         0.0899],\n",
       "        [0.0753, 0.1033, 0.0870, 0.0915, 0.0946, 0.1152, 0.1268, 0.1175, 0.1052,\n",
       "         0.0835],\n",
       "        [0.0738, 0.0972, 0.0789, 0.1031, 0.1020, 0.1120, 0.1307, 0.0960, 0.1177,\n",
       "         0.0886]], grad_fn=<SoftmaxBackward0>)"
      ]
     },
     "execution_count": 24,
     "metadata": {},
     "output_type": "execute_result"
    }
   ],
   "execution_count": 24
  },
  {
   "cell_type": "code",
   "source": [
    "#21\n",
    "print(f\"Model structure: {model}\\n\\n\")\n",
    "\n",
    "for name, param in model.named_parameters():\n",
    "    print(f\"Layer: {name} | Size: {param.size()} | Values : {param[:2]} \\n\")"
   ],
   "metadata": {
    "collapsed": false,
    "ExecuteTime": {
     "end_time": "2024-07-16T10:19:00.764883Z",
     "start_time": "2024-07-16T10:19:00.733719Z"
    }
   },
   "id": "5145a46bdb28f33e",
   "outputs": [
    {
     "name": "stdout",
     "output_type": "stream",
     "text": [
      "Model structure: NeuralNetwork(\n",
      "  (flatten): Flatten(start_dim=1, end_dim=-1)\n",
      "  (linear_relu_stack): Sequential(\n",
      "    (0): Linear(in_features=784, out_features=512, bias=True)\n",
      "    (1): ReLU()\n",
      "    (2): Linear(in_features=512, out_features=512, bias=True)\n",
      "    (3): ReLU()\n",
      "    (4): Linear(in_features=512, out_features=10, bias=True)\n",
      "  )\n",
      ")\n",
      "\n",
      "\n",
      "Layer: linear_relu_stack.0.weight | Size: torch.Size([512, 784]) | Values : tensor([[-0.0006,  0.0017,  0.0164,  ..., -0.0045, -0.0242, -0.0203],\n",
      "        [ 0.0253, -0.0285,  0.0142,  ..., -0.0229, -0.0180, -0.0128]],\n",
      "       device='mps:0', grad_fn=<SliceBackward0>) \n",
      "\n",
      "Layer: linear_relu_stack.0.bias | Size: torch.Size([512]) | Values : tensor([ 0.0063, -0.0142], device='mps:0', grad_fn=<SliceBackward0>) \n",
      "\n",
      "Layer: linear_relu_stack.2.weight | Size: torch.Size([512, 512]) | Values : tensor([[ 0.0417,  0.0115, -0.0004,  ..., -0.0236, -0.0162, -0.0041],\n",
      "        [-0.0014, -0.0404, -0.0102,  ..., -0.0031,  0.0413, -0.0047]],\n",
      "       device='mps:0', grad_fn=<SliceBackward0>) \n",
      "\n",
      "Layer: linear_relu_stack.2.bias | Size: torch.Size([512]) | Values : tensor([ 0.0276, -0.0404], device='mps:0', grad_fn=<SliceBackward0>) \n",
      "\n",
      "Layer: linear_relu_stack.4.weight | Size: torch.Size([10, 512]) | Values : tensor([[-0.0086,  0.0069, -0.0124,  ...,  0.0059,  0.0282,  0.0060],\n",
      "        [-0.0415, -0.0278,  0.0348,  ..., -0.0004, -0.0076, -0.0318]],\n",
      "       device='mps:0', grad_fn=<SliceBackward0>) \n",
      "\n",
      "Layer: linear_relu_stack.4.bias | Size: torch.Size([10]) | Values : tensor([0.0158, 0.0124], device='mps:0', grad_fn=<SliceBackward0>) \n",
      "\n"
     ]
    }
   ],
   "execution_count": 25
  }
 ],
 "metadata": {
  "kernelspec": {
   "display_name": "Python 3",
   "language": "python",
   "name": "python3"
  },
  "language_info": {
   "codemirror_mode": {
    "name": "ipython",
    "version": 2
   },
   "file_extension": ".py",
   "mimetype": "text/x-python",
   "name": "python",
   "nbconvert_exporter": "python",
   "pygments_lexer": "ipython2",
   "version": "2.7.6"
  }
 },
 "nbformat": 4,
 "nbformat_minor": 5
}
